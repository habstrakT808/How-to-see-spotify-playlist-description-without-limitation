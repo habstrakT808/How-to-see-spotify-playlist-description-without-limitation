{
  "nbformat": 4,
  "nbformat_minor": 0,
  "metadata": {
    "colab": {
      "provenance": [],
      "authorship_tag": "ABX9TyMpAEKSlpW6b7vybWo5G3Z0",
      "include_colab_link": true
    },
    "kernelspec": {
      "name": "python3",
      "display_name": "Python 3"
    },
    "language_info": {
      "name": "python"
    }
  },
  "cells": [
    {
      "cell_type": "markdown",
      "metadata": {
        "id": "view-in-github",
        "colab_type": "text"
      },
      "source": [
        "<a href=\"https://colab.research.google.com/github/habstrakT808/How-to-see-spotify-playlist-description-without-limitation/blob/main/Spotify_Playlist_Full_Metadata_Extractor.ipynb\" target=\"_parent\"><img src=\"https://colab.research.google.com/assets/colab-badge.svg\" alt=\"Open In Colab\"/></a>"
      ]
    },
    {
      "cell_type": "markdown",
      "source": [
        "#🎵 Spotify Playlist Extractor dengan Spotipy"
      ],
      "metadata": {
        "id": "xy1TOpYxqcsL"
      }
    },
    {
      "cell_type": "markdown",
      "source": [
        "## 📦 1. Instalasi dan Import Library"
      ],
      "metadata": {
        "id": "sbzHYhNwqgC1"
      }
    },
    {
      "cell_type": "code",
      "execution_count": 21,
      "metadata": {
        "id": "i2ygLDRSuHfq",
        "colab": {
          "base_uri": "https://localhost:8080/"
        },
        "outputId": "3fb5a3cf-4f77-43a3-9e5c-122b0b213ce7"
      },
      "outputs": [
        {
          "output_type": "stream",
          "name": "stdout",
          "text": [
            "Requirement already satisfied: spotipy in /usr/local/lib/python3.11/dist-packages (2.25.1)\n",
            "Requirement already satisfied: redis>=3.5.3 in /usr/local/lib/python3.11/dist-packages (from spotipy) (5.2.1)\n",
            "Requirement already satisfied: requests>=2.25.0 in /usr/local/lib/python3.11/dist-packages (from spotipy) (2.32.3)\n",
            "Requirement already satisfied: urllib3>=1.26.0 in /usr/local/lib/python3.11/dist-packages (from spotipy) (2.3.0)\n",
            "Requirement already satisfied: charset-normalizer<4,>=2 in /usr/local/lib/python3.11/dist-packages (from requests>=2.25.0->spotipy) (3.4.1)\n",
            "Requirement already satisfied: idna<4,>=2.5 in /usr/local/lib/python3.11/dist-packages (from requests>=2.25.0->spotipy) (3.10)\n",
            "Requirement already satisfied: certifi>=2017.4.17 in /usr/local/lib/python3.11/dist-packages (from requests>=2.25.0->spotipy) (2025.1.31)\n"
          ]
        }
      ],
      "source": [
        "!pip install spotipy\n",
        "import spotipy\n",
        "from spotipy.oauth2 import SpotifyClientCredentials\n",
        "import pandas as pd\n",
        "import json\n",
        "import os"
      ]
    },
    {
      "cell_type": "markdown",
      "source": [
        "## 🔐 2. Autentikasi API Spotify\n"
      ],
      "metadata": {
        "id": "wpMevt9DqoUv"
      }
    },
    {
      "cell_type": "code",
      "source": [
        "def setup_spotify_client():\n",
        "    \"\"\"\n",
        "    Mengatur koneksi dengan Spotify API menggunakan kredensial\n",
        "    \"\"\"\n",
        "    # Anda bisa mengatur ini sebagai environment variables atau memasukkan langsung\n",
        "    # Sebaiknya gunakan environment variables untuk keamanan\n",
        "    client_id = os.getenv('SPOTIFY_CLIENT_ID')\n",
        "    client_secret = os.getenv('SPOTIFY_CLIENT_SECRET')\n",
        "\n",
        "    if not client_id or not client_secret:\n",
        "        client_id = input(\"Masukkan Spotify Client ID: \")\n",
        "        client_secret = input(\"Masukkan Spotify Client Secret: \")\n",
        "\n",
        "    # Mengatur klien Spotify\n",
        "    client_credentials_manager = SpotifyClientCredentials(\n",
        "        client_id=client_id,\n",
        "        client_secret=client_secret\n",
        "    )\n",
        "    sp = spotipy.Spotify(client_credentials_manager=client_credentials_manager)\n",
        "\n",
        "    return sp"
      ],
      "metadata": {
        "id": "27HNCWJsqlBm"
      },
      "execution_count": 22,
      "outputs": []
    },
    {
      "cell_type": "markdown",
      "source": [
        "## 📂 3. Mendapatkan Informasi Playlist\n"
      ],
      "metadata": {
        "id": "wQWhgTLdqtdH"
      }
    },
    {
      "cell_type": "code",
      "source": [
        "def get_playlist_info(sp, playlist_url_or_id):\n",
        "    \"\"\"\n",
        "    Mendapatkan informasi detail playlist termasuk deskripsi\n",
        "    \"\"\"\n",
        "    # Ekstrak ID playlist dari URL jika yang dimasukkan adalah URL\n",
        "    if \"spotify.com/playlist/\" in playlist_url_or_id:\n",
        "        playlist_id = playlist_url_or_id.split(\"spotify.com/playlist/\")[1].split(\"?\")[0]\n",
        "    else:\n",
        "        playlist_id = playlist_url_or_id\n",
        "\n",
        "    try:\n",
        "        # Mendapatkan informasi playlist\n",
        "        playlist = sp.playlist(playlist_id)\n",
        "\n",
        "        # Ekstrak informasi utama\n",
        "        playlist_info = {\n",
        "            'id': playlist['id'],\n",
        "            'name': playlist['name'],\n",
        "            'description': playlist['description'],\n",
        "            'owner_id': playlist['owner']['id'],\n",
        "            'owner_name': playlist['owner']['display_name'],\n",
        "            'followers': playlist['followers']['total'],\n",
        "            'public': playlist['public'],\n",
        "            'collaborative': playlist['collaborative'],\n",
        "            'total_tracks': playlist['tracks']['total'],\n",
        "            'external_url': playlist['external_urls']['spotify'],\n",
        "            'image_url': playlist['images'][0]['url'] if playlist['images'] else None\n",
        "        }\n",
        "\n",
        "        print(f\"✅ Berhasil mengambil informasi playlist: {playlist_info['name']}\")\n",
        "        return playlist_info\n",
        "\n",
        "    except Exception as e:\n",
        "        print(f\"❌ Error saat mengambil informasi playlist: {e}\")\n",
        "        return None"
      ],
      "metadata": {
        "id": "F4JtgC5_qs1G"
      },
      "execution_count": 23,
      "outputs": []
    },
    {
      "cell_type": "markdown",
      "source": [
        "## 🎶 4. Mendapatkan Semua Lagu dari Playlist"
      ],
      "metadata": {
        "id": "z9j4xKayuD8q"
      }
    },
    {
      "cell_type": "code",
      "source": [
        "def get_playlist_tracks(sp, playlist_url_or_id, limit=100):\n",
        "    \"\"\"\n",
        "    Mendapatkan semua lagu dari playlist\n",
        "    \"\"\"\n",
        "    # Ekstrak ID playlist dari URL jika yang dimasukkan adalah URL\n",
        "    if \"spotify.com/playlist/\" in playlist_url_or_id:\n",
        "        playlist_id = playlist_url_or_id.split(\"spotify.com/playlist/\")[1].split(\"?\")[0]\n",
        "    else:\n",
        "        playlist_id = playlist_url_or_id\n",
        "\n",
        "    try:\n",
        "        results = sp.playlist_tracks(playlist_id, limit=limit)\n",
        "        tracks = results['items']\n",
        "\n",
        "        # Untuk playlist dengan lagu lebih dari limit, ambil sisa lagu\n",
        "        while results['next']:\n",
        "            results = sp.next(results)\n",
        "            tracks.extend(results['items'])\n",
        "\n",
        "        # Ekstrak informasi yang dibutuhkan dari setiap lagu\n",
        "        tracks_info = []\n",
        "        for i, item in enumerate(tracks):\n",
        "            track = item['track']\n",
        "\n",
        "            # Jika track None, lewati (kadang terjadi untuk lagu yang sudah dihapus)\n",
        "            if not track:\n",
        "                continue\n",
        "\n",
        "            # Ekstrak data lagu\n",
        "            track_data = {\n",
        "                'track_number': i + 1,\n",
        "                'track_id': track['id'],\n",
        "                'track_name': track['name'],\n",
        "                'artist_name': ', '.join([artist['name'] for artist in track['artists']]),\n",
        "                'artist_id': ', '.join([artist['id'] for artist in track['artists']]),\n",
        "                'album_name': track['album']['name'],\n",
        "                'album_id': track['album']['id'],\n",
        "                'album_release_date': track['album']['release_date'],\n",
        "                'duration_ms': track['duration_ms'],\n",
        "                'popularity': track['popularity'],\n",
        "                'explicit': track['explicit'],\n",
        "                'added_at': item['added_at'],\n",
        "                'added_by': item['added_by']['id'] if item['added_by'] else None,\n",
        "                'track_url': track['external_urls']['spotify']\n",
        "            }\n",
        "            tracks_info.append(track_data)\n",
        "\n",
        "        print(f\"✅ Berhasil mengambil {len(tracks_info)} lagu dari playlist\")\n",
        "        return tracks_info\n",
        "\n",
        "    except Exception as e:\n",
        "        print(f\"❌ Error saat mengambil lagu dari playlist: {e}\")\n",
        "        return None"
      ],
      "metadata": {
        "id": "iJt1rQ1AuFFp"
      },
      "execution_count": 24,
      "outputs": []
    },
    {
      "cell_type": "markdown",
      "source": [
        "## 💾 5. Menyimpan Data ke CSV dan JSON"
      ],
      "metadata": {
        "id": "yol0qgBBq1w0"
      }
    },
    {
      "cell_type": "markdown",
      "source": [
        "### 5.1 Simpan ke CSV"
      ],
      "metadata": {
        "id": "tKnYr4Ixq6xd"
      }
    },
    {
      "cell_type": "code",
      "source": [
        "def save_to_csv(playlist_info, tracks_info, output_file='playlist_data.csv'):\n",
        "    \"\"\"\n",
        "    Menyimpan informasi lagu ke dalam CSV dengan menambahkan info playlist ke setiap baris\n",
        "    \"\"\"\n",
        "    if not tracks_info:\n",
        "        print(\"❌ Tidak ada data lagu untuk disimpan\")\n",
        "        return False\n",
        "\n",
        "    # Buat dataframe dari informasi lagu\n",
        "    df = pd.DataFrame(tracks_info)\n",
        "\n",
        "    # Tambahkan informasi playlist ke setiap baris\n",
        "    for key, value in playlist_info.items():\n",
        "        df[f'playlist_{key}'] = value\n",
        "\n",
        "    # Simpan ke CSV\n",
        "    df.to_csv(output_file, index=False)\n",
        "    print(f\"✅ Data berhasil disimpan ke {output_file}\")\n",
        "\n",
        "    return True"
      ],
      "metadata": {
        "id": "BUA5Udsrqwkt"
      },
      "execution_count": 25,
      "outputs": []
    },
    {
      "cell_type": "markdown",
      "source": [
        "### 5.2 Simpan ke JSON"
      ],
      "metadata": {
        "id": "KApGRk-Wq9wO"
      }
    },
    {
      "cell_type": "code",
      "source": [
        "def save_playlist_info_json(playlist_info, output_file='playlist_info.json'):\n",
        "    \"\"\"\n",
        "    Menyimpan informasi playlist ke dalam file JSON\n",
        "    \"\"\"\n",
        "    with open(output_file, 'w', encoding='utf-8') as f:\n",
        "        json.dump(playlist_info, f, indent=4, ensure_ascii=False)\n",
        "    print(f\"✅ Informasi playlist disimpan ke {output_file}\")"
      ],
      "metadata": {
        "id": "D1CHbnVxq30m"
      },
      "execution_count": 26,
      "outputs": []
    },
    {
      "cell_type": "markdown",
      "source": [
        "## 🚀 6. Fungsi Utama (Main)\n"
      ],
      "metadata": {
        "id": "AckULbzSrEWx"
      }
    },
    {
      "cell_type": "code",
      "source": [
        "def main():\n",
        "    # Pengaturan koneksi Spotify\n",
        "    print(\"=== Pengekstrak Informasi Playlist Spotify ===\")\n",
        "    print(\"\\nMenghubungkan ke Spotify API...\")\n",
        "    sp = setup_spotify_client()\n",
        "\n",
        "    # Ambil URL atau ID playlist dari user\n",
        "    playlist_url = input(\"\\nMasukkan URL atau ID playlist Spotify: \")\n",
        "\n",
        "    # Dapatkan informasi playlist\n",
        "    print(\"\\nMengambil informasi playlist...\")\n",
        "    playlist_info = get_playlist_info(sp, playlist_url)\n",
        "\n",
        "    if not playlist_info:\n",
        "        print(\"Program berhenti karena tidak bisa mendapatkan informasi playlist.\")\n",
        "        return\n",
        "\n",
        "    # Tampilkan informasi playlist\n",
        "    print(\"\\n=== INFORMASI PLAYLIST ===\")\n",
        "    print(f\"Nama: {playlist_info['name']}\")\n",
        "    print(f\"Deskripsi: {playlist_info['description']}\")\n",
        "    print(f\"Pemilik: {playlist_info['owner_name']} ({playlist_info['owner_id']})\")\n",
        "    print(f\"Jumlah Lagu: {playlist_info['total_tracks']}\")\n",
        "    print(f\"Followers: {playlist_info['followers']}\")\n",
        "    print(f\"URL: {playlist_info['external_url']}\")\n",
        "\n",
        "    # Tanya user apakah ingin melanjutkan untuk mengambil data lagu\n",
        "    choice = input(\"\\nApakah Anda ingin mengambil semua data lagu? (y/n): \")\n",
        "\n",
        "    if choice.lower() == 'y':\n",
        "        # Ambil data lagu\n",
        "        print(\"\\nMengambil data lagu...\")\n",
        "        tracks_info = get_playlist_tracks(sp, playlist_url)\n",
        "\n",
        "        if tracks_info:\n",
        "            # Simpan data\n",
        "            output_csv = input(\"\\nMasukkan nama file untuk menyimpan data CSV (default: playlist_data.csv): \")\n",
        "            if not output_csv:\n",
        "                output_csv = \"playlist_data.csv\"\n",
        "\n",
        "            save_to_csv(playlist_info, tracks_info, output_csv)\n",
        "\n",
        "    # Simpan informasi playlist sebagai JSON\n",
        "    save_json = input(\"\\nApakah Anda ingin menyimpan informasi playlist sebagai JSON? (y/n): \")\n",
        "    if save_json.lower() == 'y':\n",
        "        output_json = input(\"Masukkan nama file JSON (default: playlist_info.json): \")\n",
        "        if not output_json:\n",
        "            output_json = \"playlist_info.json\"\n",
        "        save_playlist_info_json(playlist_info, output_json)\n",
        "\n",
        "    print(\"\\nProgram selesai!\")"
      ],
      "metadata": {
        "id": "5NBKlTKxrByF"
      },
      "execution_count": 27,
      "outputs": []
    },
    {
      "cell_type": "markdown",
      "source": [
        "## Jalankan Program"
      ],
      "metadata": {
        "id": "VXIT71Y7rJIJ"
      }
    },
    {
      "cell_type": "code",
      "source": [
        "if __name__ == \"__main__\":\n",
        "    main()"
      ],
      "metadata": {
        "colab": {
          "base_uri": "https://localhost:8080/"
        },
        "id": "Lc39Y7j6rGZY",
        "outputId": "c83a5067-2f5e-4410-ac76-b0878f21f9ae"
      },
      "execution_count": 28,
      "outputs": [
        {
          "output_type": "stream",
          "name": "stdout",
          "text": [
            "=== Pengekstrak Informasi Playlist Spotify ===\n",
            "\n",
            "Menghubungkan ke Spotify API...\n",
            "Masukkan Spotify Client ID: 587a34de10c845f4aeb2a29e96edf734\n",
            "Masukkan Spotify Client Secret: 9b03217cbd4140d084190098ae66f021\n",
            "\n",
            "Masukkan URL atau ID playlist Spotify: https://open.spotify.com/playlist/3wlLPheGvVHz0t2GsyAQRe?si=c34694ee73f34178\n",
            "\n",
            "Mengambil informasi playlist...\n",
            "✅ Berhasil mengambil informasi playlist: A Letter I've Never Sent #2\n",
            "\n",
            "=== INFORMASI PLAYLIST ===\n",
            "Nama: A Letter I've Never Sent #2\n",
            "Deskripsi: But if u ever stumble upon this, just know.... I never forgot. Not u, not us, not the way u made me feel. I dont expect anything, not even a reply. I just needed to say this somewhere, somehow. Sooo.. this became A Letter I&#x27;ve Never Sent, the only way i knew how to say what i felt.\n",
            "Pemilik: Raluv A. (31orvnbq2efbgtlha7anut2ueg4i)\n",
            "Jumlah Lagu: 41\n",
            "Followers: 2\n",
            "URL: https://open.spotify.com/playlist/3wlLPheGvVHz0t2GsyAQRe\n",
            "\n",
            "Apakah Anda ingin mengambil semua data lagu? (y/n): y\n",
            "\n",
            "Mengambil data lagu...\n",
            "✅ Berhasil mengambil 41 lagu dari playlist\n",
            "\n",
            "Masukkan nama file untuk menyimpan data CSV (default: playlist_data.csv): A Letter I've Never Sent.csv\n",
            "✅ Data berhasil disimpan ke A Letter I've Never Sent.csv\n",
            "\n",
            "Apakah Anda ingin menyimpan informasi playlist sebagai JSON? (y/n): n\n",
            "\n",
            "Program selesai!\n"
          ]
        }
      ]
    }
  ]
}